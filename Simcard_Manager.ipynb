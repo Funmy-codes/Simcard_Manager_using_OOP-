{
  "nbformat": 4,
  "nbformat_minor": 0,
  "metadata": {
    "colab": {
      "provenance": []
    },
    "kernelspec": {
      "name": "python3",
      "display_name": "Python 3"
    },
    "language_info": {
      "name": "python"
    }
  },
  "cells": [
    {
      "cell_type": "code",
      "execution_count": 3,
      "metadata": {
        "id": "D3IwPimDJBsL"
      },
      "outputs": [],
      "source": [
        "## I created a Simcard programming using Object Oriented Programming with classes\n",
        "\n",
        "class SimCard:\n",
        "  def __init__(self, name, network, number):   # I brought in the necessary attributes required\n",
        "    self.name = name\n",
        "    self.network = network\n",
        "    self.number = number\n",
        "    self.pin = 1000\n",
        "    self.balance = 0\n",
        "\n",
        "  def info(self):\n",
        "    print(f'Hello {self.name}, your {self.network} network has been activated and your number is {self.number}')\n",
        "    print(f'Your current balance is {self.balance} Naira and your current pin is {self.pin}')\n",
        "\n",
        "\n",
        "  def load_credit(self, amount):\n",
        "    self.balance = self.balance + amount\n",
        "    print(f'Yello, Your request for {amount} Naira Airtime is successful. Your current balance is {self.balance} Naira')\n",
        "\n",
        "\n",
        "  def pincode(self):\n",
        "    self.pin = self.pin\n",
        "    pin = int(input('Enter Your pincode: '))\n",
        "    if pin == self.pin:\n",
        "      a = int(input('Enter Your new pincode: '))\n",
        "      b = int(input('Confirm Your new pincode: '))\n",
        "      if a == b:\n",
        "        self.pin = b\n",
        "        print(f'Your new pincode is {self.pin}')\n",
        "      else:\n",
        "        print('Confirm your pin again')\n",
        "    else:\n",
        "      print('Incorrect pin!!!')\n",
        "\n",
        "\n",
        "  def call(self):\n",
        "    a = int(input('How many calls will you be making?: '))\n",
        "    if a > 0 and a <= 2:\n",
        "      if self.balance > 400:\n",
        "        self.balance = self.balance - 400 * a\n",
        "        print(f'You can successfully give a call and your new balance will be {self.balance} naira')\n",
        "      else:\n",
        "        print(f'Your account is too low for the destination you are calling, please recharge. Your balance is {self.balance} Naira')\n",
        "    elif a == 3:\n",
        "      i = input('Who are you calling?: ')\n",
        "      if i == 'Fam_friend':\n",
        "        self.balance = self.balance - 0\n",
        "        print(f'You are free to make three free calls. Your balance is {self.balance} Naira')\n",
        "      else:\n",
        "        if self.balance > 400:\n",
        "          self.balance = self.balance - 400 * 2\n",
        "          print(f'You can successfully give two calls from your daily limit and your new balance will be {self.balance} naira')\n",
        "        else:\n",
        "          print(f'Your account is too low for the destination you are calling, please recharge. Your balance is {self.balance} Naira')\n",
        "    else:\n",
        "      print(f'Ooppp!!! It is more than your daily limit, try again tomorrow')\n",
        "\n",
        "\n",
        "\n",
        "  def text(self):\n",
        "    a = int(input('How many text will you be making?: '))\n",
        "    if a > 0 and a <= 2:\n",
        "      if self.balance > 50:\n",
        "        self.balance = self.balance - 50 * a\n",
        "        print(f'You can successfully send a text and your new balance will be {self.balance} naira')\n",
        "      else:\n",
        "        print(f'Error!!! your account is too low to deliver your text messages, please recharge. Your balance is {self.balance} Naira')\n",
        "    elif a == 3:\n",
        "      i = input('Who are you texting?: ')\n",
        "      if i == 'Fam_friend':\n",
        "        self.balance = self.balance - 0\n",
        "        print(f'You are free to send text messages. Your balance is {self.balance} Naira')\n",
        "      else:\n",
        "        if self.balance > 50:\n",
        "          self.balance = self.balance - 50 * 2\n",
        "          print(f'You can successfully send two text messages from your daily limit and your new balance will be {self.balance} naira')\n",
        "        else:\n",
        "          print(f'Error!!! your account is too low to deliver your text messages, please recharge. Your balance is {self.balance} Naira')\n",
        "    else:\n",
        "      print(f'Ooppp!!! It is more than your daily limit, try again tomorrow')\n",
        "\n",
        "\n",
        "  def transfer(self, amount, who):\n",
        "    a = int(input('Enter your pin: '))\n",
        "    if self.pin == a:\n",
        "      print('Correct pin!!!')\n",
        "      b = int(input('How many transfers are you making?: '))\n",
        "      if b > 0 and b <= 2:\n",
        "        if self.balance > amount:\n",
        "          if amount > 0 and amount < 1000:\n",
        "            who.balance = who.balance + amount\n",
        "            self.balance = self.balance - amount\n",
        "            print(f'{self.name} you have succefully transfer {amount} naira Airtime to {who.name}. Your new balance is {self.balance} naira')\n",
        "          else:\n",
        "            print('You have reach your daily limit amount')\n",
        "        else:\n",
        "          print(\"Transfer error!!!\")\n",
        "          print(f\"You do not have sufficient balance to make this transaction as your current balance is {self.balance}\")\n",
        "      else:\n",
        "        print('You have exceeded your daily limit, try again tommorrow')\n",
        "    else:\n",
        "      print(f\"Your entered pin code {a} is wrong, please try again\")\n",
        "\n",
        "\n",
        "\n",
        "\n",
        "\n",
        "\n",
        "Dami = SimCard('Dami', 'MTN', 8148120583)\n",
        "Tolu = SimCard('Tolu', 'GlO', 8148129216)"
      ]
    },
    {
      "cell_type": "code",
      "source": [
        "Tolu.info()"
      ],
      "metadata": {
        "colab": {
          "base_uri": "https://localhost:8080/"
        },
        "id": "bEjUzyXiMVk9",
        "outputId": "6dfd17eb-1e21-417f-ba71-cba1a0b8a98d"
      },
      "execution_count": 4,
      "outputs": [
        {
          "output_type": "stream",
          "name": "stdout",
          "text": [
            "Hello Tolu, your GlO network has been activated and your number is 8148129216\n",
            "Your current balance is 0 Naira and your current pin is 1000\n"
          ]
        }
      ]
    },
    {
      "cell_type": "code",
      "source": [
        "Tolu.load_credit(500)"
      ],
      "metadata": {
        "colab": {
          "base_uri": "https://localhost:8080/"
        },
        "id": "-0ZXAFY7MqOB",
        "outputId": "e816cf95-88ac-468d-925b-c6a5b4775199"
      },
      "execution_count": 10,
      "outputs": [
        {
          "output_type": "stream",
          "name": "stdout",
          "text": [
            "Yello, Your request for 500 Naira Airtime is successful. Your current balance is 550 Naira\n"
          ]
        }
      ]
    },
    {
      "cell_type": "code",
      "source": [
        "Tolu.pincode()"
      ],
      "metadata": {
        "colab": {
          "base_uri": "https://localhost:8080/"
        },
        "id": "9d55R4oXM0tQ",
        "outputId": "214f1396-1398-4e0b-f2e9-7ad5d5b14338"
      },
      "execution_count": 6,
      "outputs": [
        {
          "output_type": "stream",
          "name": "stdout",
          "text": [
            "Enter Your pincode: 1000\n",
            "Enter Your new pincode: 1234\n",
            "Confirm Your new pincode: 1234\n",
            "Your new pincode is 1234\n"
          ]
        }
      ]
    },
    {
      "cell_type": "code",
      "source": [
        "Tolu.call()"
      ],
      "metadata": {
        "colab": {
          "base_uri": "https://localhost:8080/"
        },
        "id": "zAdJPd3-M_XY",
        "outputId": "8310c38c-cafa-4913-d611-3da0f7417188"
      },
      "execution_count": 7,
      "outputs": [
        {
          "output_type": "stream",
          "name": "stdout",
          "text": [
            "How many calls will you be making?: 1\n",
            "You can successfully give a call and your new balance will be 100 naira\n"
          ]
        }
      ]
    },
    {
      "cell_type": "code",
      "source": [
        "Tolu.text()"
      ],
      "metadata": {
        "colab": {
          "base_uri": "https://localhost:8080/"
        },
        "id": "aTAetiANNFBQ",
        "outputId": "a0aa6ab7-5f87-409b-ab4c-cf528c855ddd"
      },
      "execution_count": 8,
      "outputs": [
        {
          "output_type": "stream",
          "name": "stdout",
          "text": [
            "How many text will you be making?: 1\n",
            "You can successfully send a text and your new balance will be 50 naira\n"
          ]
        }
      ]
    },
    {
      "cell_type": "code",
      "source": [
        "Tolu.transfer(100, Dami)"
      ],
      "metadata": {
        "colab": {
          "base_uri": "https://localhost:8080/"
        },
        "id": "wHBD__pBNHa8",
        "outputId": "6b3149d1-68ec-4615-9962-1153e841d49a"
      },
      "execution_count": 11,
      "outputs": [
        {
          "output_type": "stream",
          "name": "stdout",
          "text": [
            "Enter your pin: 1234\n",
            "Correct pin!!!\n",
            "How many transfers are you making?: 1\n",
            "Tolu you have succefully transfer 100 naira Airtime to Dami. Your new balance is 450 naira\n"
          ]
        }
      ]
    },
    {
      "cell_type": "code",
      "source": [
        "Dami.info()"
      ],
      "metadata": {
        "colab": {
          "base_uri": "https://localhost:8080/"
        },
        "id": "-dqp74GaNVYc",
        "outputId": "e599f508-a3f2-43d4-fd51-39c3cb08a502"
      },
      "execution_count": 12,
      "outputs": [
        {
          "output_type": "stream",
          "name": "stdout",
          "text": [
            "Hello Dami, your MTN network has been activated and your number is 8148120583\n",
            "Your current balance is 100 Naira and your current pin is 1000\n"
          ]
        }
      ]
    }
  ]
}